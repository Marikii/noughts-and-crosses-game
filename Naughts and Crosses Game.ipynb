{
 "cells": [
  {
   "cell_type": "markdown",
   "id": "24ca3a65",
   "metadata": {},
   "source": [
    "# Welcome to the noughts and crosses game"
   ]
  },
  {
   "cell_type": "markdown",
   "id": "c684bd70",
   "metadata": {},
   "source": [
    "#### Functions:"
   ]
  },
  {
   "cell_type": "code",
   "execution_count": null,
   "id": "026a4395",
   "metadata": {},
   "outputs": [],
   "source": [
    "def player_names():\n",
    "    \n",
    "    A_name = input(\"Player A what is your name? :\")\n",
    "    \n",
    "    B_name = input(\"Player B what is your name? :\")\n",
    "    \n",
    "    return [A_name, B_name]"
   ]
  },
  {
   "cell_type": "code",
   "execution_count": null,
   "id": "4f967be1",
   "metadata": {},
   "outputs": [],
   "source": [
    "def player_start(names_list):\n",
    "    \n",
    "    from random import shuffle\n",
    "    shuffle(names_list)\n",
    "    \n",
    "    print(names_list[0], \"you start\")\n",
    "    \n",
    "    return {\"p1\" : names_list[0], \"p2\" : names_list[1]}"
   ]
  },
  {
   "cell_type": "code",
   "execution_count": null,
   "id": "d0896200",
   "metadata": {},
   "outputs": [],
   "source": [
    "def print_board(game_list):\n",
    "    \n",
    "    clear_output()\n",
    "    \n",
    "    print(game_list[6], \"|\", game_list[7], \"|\", game_list[8])\n",
    "    print(\"---------\")\n",
    "    print(game_list[3], \"|\", game_list[4], \"|\", game_list[5])\n",
    "    print(\"---------\")\n",
    "    print(game_list[0], \"|\", game_list[1], \"|\", game_list[2])"
   ]
  },
  {
   "cell_type": "code",
   "execution_count": null,
   "id": "0c0f9169",
   "metadata": {},
   "outputs": [],
   "source": [
    "def start_game():\n",
    "    \n",
    "    start = \"NOANSWER\"\n",
    "    \n",
    "    while start not in [\"y\"]:\n",
    "        \n",
    "        start = input(\"Are you ready to play? (y or n): \")\n",
    "        \n",
    "        if start not in [\"y\", \"n\"]:\n",
    "            print(\"Please type y or n\")\n",
    "            \n",
    "    if start == \"y\":\n",
    "        return True"
   ]
  },
  {
   "cell_type": "code",
   "execution_count": null,
   "id": "a08e381b",
   "metadata": {},
   "outputs": [],
   "source": [
    "def assign_xo(player_order):\n",
    "    \n",
    "    p1_assignment = \"UNASSIGNED\"\n",
    "    \n",
    "    while p1_assignment not in [\"o\", \"x\"]: \n",
    "        p1_assignment = input(f'{player_order[\"p1\"]} : choose x or o: ')\n",
    "        \n",
    "        if p1_assignment not in [\"o\", \"x\"]:\n",
    "            print(\"Please choose o or x\")\n",
    "            \n",
    "    if p1_assignment == \"o\":\n",
    "        p2_assignment = \"x\"\n",
    "    else:\n",
    "        p2_assignment = \"o\"\n",
    "            \n",
    "    return {\"p1\" : p1_assignment, \"p2\" : p2_assignment}"
   ]
  },
  {
   "cell_type": "code",
   "execution_count": null,
   "id": "16423341",
   "metadata": {},
   "outputs": [],
   "source": [
    "def space_check(game_list, position):\n",
    "    \n",
    "    index = int(position) - 1\n",
    "    \n",
    "    if game_list[index] != \" \":\n",
    "        print(f'Sorry position {position} is taken!')\n",
    "        return False\n",
    "    \n",
    "    return True"
   ]
  },
  {
   "cell_type": "code",
   "execution_count": null,
   "id": "29185adb",
   "metadata": {},
   "outputs": [],
   "source": [
    "def place_xo(player_order, turn, char, game_list):\n",
    "    \n",
    "    # Set up variables\n",
    "    position = \"NOPOSITION\"\n",
    "    within_range = False\n",
    "    acceptable_position = list(range(1,10))\n",
    "    \n",
    "    # Check conditions:\n",
    "    # digit and within range\n",
    "    \n",
    "    if turn == \"p1\":\n",
    "        player = player_order[\"p1\"]\n",
    "    elif turn == \"p2\":\n",
    "        player = player_order[\"p2\"]\n",
    "    \n",
    "    while position.isdigit() == False or within_range == False or space == False:\n",
    "        position = input(f'{player} choose a position (1-9): ')\n",
    "        \n",
    "        if position.isdigit() == False:\n",
    "            print(\"Choose a number between 1 and 9\")\n",
    "        \n",
    "        if position.isdigit():\n",
    "            if int(position) in acceptable_position:\n",
    "                within_range = True\n",
    "            else:\n",
    "                within_range = False\n",
    "                print(\"Make sure your number is between 1 and 9\")\n",
    "                \n",
    "        if position.isdigit():\n",
    "            space = space_check(game_list, position)\n",
    "                \n",
    "    position = int(position) - 1\n",
    "        \n",
    "    game_list[position] = char\n",
    "            \n",
    "    return game_list"
   ]
  },
  {
   "cell_type": "code",
   "execution_count": null,
   "id": "402b708b",
   "metadata": {},
   "outputs": [],
   "source": [
    "def change_turns(turn):\n",
    "    \n",
    "    if turn == \"p1\":\n",
    "            turn = \"p2\"\n",
    "    else:\n",
    "        turn = \"p1\"\n",
    "            \n",
    "    return turn"
   ]
  },
  {
   "cell_type": "code",
   "execution_count": null,
   "id": "2b7e87a9",
   "metadata": {},
   "outputs": [],
   "source": [
    "def game_complete(player_order, turn, game_list):\n",
    "    \n",
    "    if turn == \"p1\":\n",
    "        player = player_order[\"p1\"]\n",
    "    elif turn == \"p2\":\n",
    "        player = player_order[\"p2\"]\n",
    "    \n",
    "    # WINNING SEQUENCES\n",
    "    a = game_list[0] == game_list[3] == game_list[6] and game_list[0] != \" \"\n",
    "    b = game_list[1] == game_list[4] == game_list[7] and game_list[1] != \" \"\n",
    "    c = game_list[2] == game_list[5] == game_list[8] and game_list[2] != \" \"\n",
    "    \n",
    "    d = game_list[0] == game_list[1] == game_list[2] and game_list[0] != \" \"\n",
    "    e = game_list[3] == game_list[4] == game_list[5] and game_list[3] != \" \"\n",
    "    f = game_list[6] == game_list[7] == game_list[8] and game_list[6] != \" \"\n",
    "    \n",
    "    g = game_list[0] == game_list[4] == game_list[8] and game_list[0] != \" \"\n",
    "    h = game_list[2] == game_list[4] == game_list[6] and game_list[2] != \" \"\n",
    "    \n",
    "    if a or b or c or d or e or f or g or h:  \n",
    "        print(f\"{player} wow you've won! :)\")\n",
    "        return True\n",
    "    \n",
    "    # DRAW\n",
    "    if \" \" not in game_list:\n",
    "        print(\"Well, it's a draw!\")\n",
    "        return True\n",
    "    \n",
    "    # No win or no draw\n",
    "    return False"
   ]
  },
  {
   "cell_type": "code",
   "execution_count": null,
   "id": "c75cef82",
   "metadata": {},
   "outputs": [],
   "source": [
    "def exit_game():\n",
    "    \n",
    "    play_again = \"NOANSWER\"\n",
    "    \n",
    "    while play_again not in [\"y\", \"n\"]:\n",
    "        \n",
    "        play_again = input(\"Do you want to play again? (y or n): \")\n",
    "        \n",
    "        if play_again not in [\"y\", \"n\"]:\n",
    "            print(\"Please type y or n\")\n",
    "            \n",
    "    if play_again == \"y\":\n",
    "        return False\n",
    "    else:\n",
    "        return True"
   ]
  },
  {
   "cell_type": "code",
   "execution_count": null,
   "id": "3d0f85df",
   "metadata": {},
   "outputs": [],
   "source": [
    "from IPython.display import clear_output\n",
    "\n",
    "def run_game(player_order):\n",
    "    \n",
    "    # Starting off\n",
    "\n",
    "    game_list = [\" \"]*9\n",
    "    \n",
    "    if start_game():\n",
    "        print_board(game_list)\n",
    "    \n",
    "    # p1 chooses assignment\n",
    "    assignment_dict = assign_xo(player_order) # e.g: {'p1': 'x', 'p2': 'o'}\n",
    "    \n",
    "    # the game will terminate if someone wins or if there's a draw\n",
    "    win_or_draw = False\n",
    "    \n",
    "    turn = \"p1\"\n",
    "    \n",
    "    while win_or_draw == False:\n",
    "        \n",
    "        char = assignment_dict[turn]\n",
    "        \n",
    "        game_list = place_xo(player_order, turn, char, game_list)\n",
    "        \n",
    "        #clear_output()\n",
    "        \n",
    "        print_board(game_list)\n",
    "        \n",
    "        win_or_draw = game_complete(player_order, turn, game_list)\n",
    "        \n",
    "        turn = change_turns(turn)"
   ]
  },
  {
   "cell_type": "code",
   "execution_count": null,
   "id": "73ad5674",
   "metadata": {},
   "outputs": [],
   "source": [
    "def noughts_crosses():\n",
    "\n",
    "    exit = False\n",
    "\n",
    "    names_list = player_names()\n",
    "\n",
    "    while exit == False:\n",
    "\n",
    "        player_order = player_start(names_list)\n",
    "\n",
    "        run_game(player_order)\n",
    "\n",
    "        exit = exit_game()"
   ]
  },
  {
   "cell_type": "markdown",
   "id": "ed0ed04d",
   "metadata": {},
   "source": [
    "#"
   ]
  },
  {
   "cell_type": "markdown",
   "id": "cbb3ed9e",
   "metadata": {},
   "source": [
    "#"
   ]
  },
  {
   "cell_type": "markdown",
   "id": "8931437d",
   "metadata": {},
   "source": [
    "# Welcome to the naughts and crosses game\n",
    "## Let's play!\n",
    "##### Click on the cell below, and press shift + enter to start :)"
   ]
  },
  {
   "cell_type": "code",
   "execution_count": null,
   "id": "3adb964c",
   "metadata": {},
   "outputs": [],
   "source": [
    "noughts_crosses()"
   ]
  },
  {
   "cell_type": "code",
   "execution_count": null,
   "id": "e5388e6d",
   "metadata": {},
   "outputs": [],
   "source": []
  },
  {
   "cell_type": "code",
   "execution_count": null,
   "id": "76193a2a",
   "metadata": {},
   "outputs": [],
   "source": []
  },
  {
   "cell_type": "code",
   "execution_count": null,
   "id": "c65e9b76",
   "metadata": {},
   "outputs": [],
   "source": []
  },
  {
   "cell_type": "code",
   "execution_count": null,
   "id": "2fed3a07",
   "metadata": {},
   "outputs": [],
   "source": []
  },
  {
   "cell_type": "code",
   "execution_count": null,
   "id": "76677992",
   "metadata": {},
   "outputs": [],
   "source": []
  },
  {
   "cell_type": "code",
   "execution_count": null,
   "id": "5eeb40bb",
   "metadata": {},
   "outputs": [],
   "source": []
  },
  {
   "cell_type": "code",
   "execution_count": null,
   "id": "ed1bf4e3",
   "metadata": {},
   "outputs": [],
   "source": []
  },
  {
   "cell_type": "code",
   "execution_count": null,
   "id": "cea136ab",
   "metadata": {},
   "outputs": [],
   "source": []
  },
  {
   "cell_type": "code",
   "execution_count": null,
   "id": "989b935c",
   "metadata": {},
   "outputs": [],
   "source": []
  },
  {
   "cell_type": "code",
   "execution_count": null,
   "id": "35b3c605",
   "metadata": {},
   "outputs": [],
   "source": []
  },
  {
   "cell_type": "code",
   "execution_count": null,
   "id": "e1221a15",
   "metadata": {},
   "outputs": [],
   "source": []
  },
  {
   "cell_type": "code",
   "execution_count": null,
   "id": "2ecbcd6f",
   "metadata": {},
   "outputs": [],
   "source": []
  },
  {
   "cell_type": "code",
   "execution_count": null,
   "id": "96be8cb8",
   "metadata": {},
   "outputs": [],
   "source": []
  },
  {
   "cell_type": "code",
   "execution_count": null,
   "id": "5246dd11",
   "metadata": {},
   "outputs": [],
   "source": []
  },
  {
   "cell_type": "code",
   "execution_count": null,
   "id": "89fba072",
   "metadata": {},
   "outputs": [],
   "source": []
  }
 ],
 "metadata": {
  "kernelspec": {
   "display_name": "Python 3 (ipykernel)",
   "language": "python",
   "name": "python3"
  },
  "language_info": {
   "codemirror_mode": {
    "name": "ipython",
    "version": 3
   },
   "file_extension": ".py",
   "mimetype": "text/x-python",
   "name": "python",
   "nbconvert_exporter": "python",
   "pygments_lexer": "ipython3",
   "version": "3.11.5"
  }
 },
 "nbformat": 4,
 "nbformat_minor": 5
}
